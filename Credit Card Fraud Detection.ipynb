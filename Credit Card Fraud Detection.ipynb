{
 "cells": [
  {
   "cell_type": "markdown",
   "source": "## CREDIT CARD FRAUD DETECTION SYSTEM\n\nFor any bank or financial organization, credit card fraud detection is of utmost importance. We have to spot potential fraud so that consumers can not bill for goods that they haven’t purchased. The aim is, therefore, to create a classifier that indicates whether a requested transaction is a fraud.",
   "metadata": {
    "cell_id": "bc2c7855-b4c0-45b0-9c9d-bb8f9080e6bc",
    "deepnote_cell_type": "markdown",
    "deepnote_cell_height": 153.1875
   }
  },
  {
   "cell_type": "code",
   "metadata": {
    "cell_id": "00001-9a42e5e6-93e5-42a2-abd7-eb270494a74f",
    "deepnote_cell_type": "code",
    "deepnote_cell_height": 318
   },
   "source": "# importing libraries and modules\nimport pandas as pd\nimport numpy as np\nimport matplotlib.pyplot as plt\nfrom collections import Counter\nimport itertools\nimport seaborn as sns\n\nfrom sklearn.preprocessing import StandardScaler\nfrom sklearn.model_selection import train_test_split\nfrom sklearn.ensemble import RandomForestClassifier\nfrom sklearn.tree import DecisionTreeClassifier\nfrom sklearn.metrics import accuracy_score, precision_score, confusion_matrix, recall_score, f1_score\nfrom sklearn.metrics import plot_confusion_matrix\n",
   "execution_count": null,
   "outputs": []
  },
  {
   "cell_type": "code",
   "metadata": {
    "cell_id": "00002-d5639d83-cac9-4142-8a78-7edf76faf230",
    "deepnote_cell_type": "code",
    "deepnote_cell_height": 341.1875,
    "deepnote_output_heights": [
     208.1875
    ]
   },
   "source": "# importing the dataset.\ndf = pd.read_csv('creditcard.csv')\ndf.head()",
   "execution_count": null,
   "outputs": [
    {
     "data": {
      "text/html": "<div>\n<style scoped>\n    .dataframe tbody tr th:only-of-type {\n        vertical-align: middle;\n    }\n\n    .dataframe tbody tr th {\n        vertical-align: top;\n    }\n\n    .dataframe thead th {\n        text-align: right;\n    }\n</style>\n<table border=\"1\" class=\"dataframe\">\n  <thead>\n    <tr style=\"text-align: right;\">\n      <th></th>\n      <th>Time</th>\n      <th>V1</th>\n      <th>V2</th>\n      <th>V3</th>\n      <th>V4</th>\n      <th>V5</th>\n      <th>V6</th>\n      <th>V7</th>\n      <th>V8</th>\n      <th>V9</th>\n      <th>...</th>\n      <th>V21</th>\n      <th>V22</th>\n      <th>V23</th>\n      <th>V24</th>\n      <th>V25</th>\n      <th>V26</th>\n      <th>V27</th>\n      <th>V28</th>\n      <th>Amount</th>\n      <th>Class</th>\n    </tr>\n  </thead>\n  <tbody>\n    <tr>\n      <th>0</th>\n      <td>0.0</td>\n      <td>-1.359807</td>\n      <td>-0.072781</td>\n      <td>2.536347</td>\n      <td>1.378155</td>\n      <td>-0.338321</td>\n      <td>0.462388</td>\n      <td>0.239599</td>\n      <td>0.098698</td>\n      <td>0.363787</td>\n      <td>...</td>\n      <td>-0.018307</td>\n      <td>0.277838</td>\n      <td>-0.110474</td>\n      <td>0.066928</td>\n      <td>0.128539</td>\n      <td>-0.189115</td>\n      <td>0.133558</td>\n      <td>-0.021053</td>\n      <td>149.62</td>\n      <td>0</td>\n    </tr>\n    <tr>\n      <th>1</th>\n      <td>0.0</td>\n      <td>1.191857</td>\n      <td>0.266151</td>\n      <td>0.166480</td>\n      <td>0.448154</td>\n      <td>0.060018</td>\n      <td>-0.082361</td>\n      <td>-0.078803</td>\n      <td>0.085102</td>\n      <td>-0.255425</td>\n      <td>...</td>\n      <td>-0.225775</td>\n      <td>-0.638672</td>\n      <td>0.101288</td>\n      <td>-0.339846</td>\n      <td>0.167170</td>\n      <td>0.125895</td>\n      <td>-0.008983</td>\n      <td>0.014724</td>\n      <td>2.69</td>\n      <td>0</td>\n    </tr>\n    <tr>\n      <th>2</th>\n      <td>1.0</td>\n      <td>-1.358354</td>\n      <td>-1.340163</td>\n      <td>1.773209</td>\n      <td>0.379780</td>\n      <td>-0.503198</td>\n      <td>1.800499</td>\n      <td>0.791461</td>\n      <td>0.247676</td>\n      <td>-1.514654</td>\n      <td>...</td>\n      <td>0.247998</td>\n      <td>0.771679</td>\n      <td>0.909412</td>\n      <td>-0.689281</td>\n      <td>-0.327642</td>\n      <td>-0.139097</td>\n      <td>-0.055353</td>\n      <td>-0.059752</td>\n      <td>378.66</td>\n      <td>0</td>\n    </tr>\n    <tr>\n      <th>3</th>\n      <td>1.0</td>\n      <td>-0.966272</td>\n      <td>-0.185226</td>\n      <td>1.792993</td>\n      <td>-0.863291</td>\n      <td>-0.010309</td>\n      <td>1.247203</td>\n      <td>0.237609</td>\n      <td>0.377436</td>\n      <td>-1.387024</td>\n      <td>...</td>\n      <td>-0.108300</td>\n      <td>0.005274</td>\n      <td>-0.190321</td>\n      <td>-1.175575</td>\n      <td>0.647376</td>\n      <td>-0.221929</td>\n      <td>0.062723</td>\n      <td>0.061458</td>\n      <td>123.50</td>\n      <td>0</td>\n    </tr>\n    <tr>\n      <th>4</th>\n      <td>2.0</td>\n      <td>-1.158233</td>\n      <td>0.877737</td>\n      <td>1.548718</td>\n      <td>0.403034</td>\n      <td>-0.407193</td>\n      <td>0.095921</td>\n      <td>0.592941</td>\n      <td>-0.270533</td>\n      <td>0.817739</td>\n      <td>...</td>\n      <td>-0.009431</td>\n      <td>0.798278</td>\n      <td>-0.137458</td>\n      <td>0.141267</td>\n      <td>-0.206010</td>\n      <td>0.502292</td>\n      <td>0.219422</td>\n      <td>0.215153</td>\n      <td>69.99</td>\n      <td>0</td>\n    </tr>\n  </tbody>\n</table>\n<p>5 rows × 31 columns</p>\n</div>",
      "text/plain": "   Time        V1        V2        V3        V4        V5        V6        V7  \\\n0   0.0 -1.359807 -0.072781  2.536347  1.378155 -0.338321  0.462388  0.239599   \n1   0.0  1.191857  0.266151  0.166480  0.448154  0.060018 -0.082361 -0.078803   \n2   1.0 -1.358354 -1.340163  1.773209  0.379780 -0.503198  1.800499  0.791461   \n3   1.0 -0.966272 -0.185226  1.792993 -0.863291 -0.010309  1.247203  0.237609   \n4   2.0 -1.158233  0.877737  1.548718  0.403034 -0.407193  0.095921  0.592941   \n\n         V8        V9  ...       V21       V22       V23       V24       V25  \\\n0  0.098698  0.363787  ... -0.018307  0.277838 -0.110474  0.066928  0.128539   \n1  0.085102 -0.255425  ... -0.225775 -0.638672  0.101288 -0.339846  0.167170   \n2  0.247676 -1.514654  ...  0.247998  0.771679  0.909412 -0.689281 -0.327642   \n3  0.377436 -1.387024  ... -0.108300  0.005274 -0.190321 -1.175575  0.647376   \n4 -0.270533  0.817739  ... -0.009431  0.798278 -0.137458  0.141267 -0.206010   \n\n        V26       V27       V28  Amount  Class  \n0 -0.189115  0.133558 -0.021053  149.62      0  \n1  0.125895 -0.008983  0.014724    2.69      0  \n2 -0.139097 -0.055353 -0.059752  378.66      0  \n3 -0.221929  0.062723  0.061458  123.50      0  \n4  0.502292  0.219422  0.215153   69.99      0  \n\n[5 rows x 31 columns]"
     },
     "execution_count": 6,
     "metadata": {},
     "output_type": "execute_result"
    }
   ]
  },
  {
   "cell_type": "code",
   "metadata": {
    "cell_id": "00003-0f3f2a0e-3866-487c-8683-26e375c97caa",
    "owner_user_id": "d46c793e-ac82-4fb7-8996-dec91e469338",
    "deepnote_cell_type": "code",
    "deepnote_cell_height": 172.1875,
    "deepnote_output_heights": [
     21.1875
    ]
   },
   "source": "# checking for null values\ndf.isnull().values.any()\n\n# there are no null values present in the dataset",
   "execution_count": null,
   "outputs": [
    {
     "data": {
      "text/plain": "False"
     },
     "execution_count": 7,
     "metadata": {},
     "output_type": "execute_result"
    }
   ]
  },
  {
   "cell_type": "code",
   "metadata": {
    "cell_id": "00004-01746567-e7c6-4d82-8367-16434ddd02c5",
    "deepnote_cell_type": "code",
    "deepnote_cell_height": 289.78125,
    "deepnote_output_heights": [
     174.796875
    ]
   },
   "source": "# a summary of the\"Amount\" column\ndf['Amount'].describe()",
   "execution_count": null,
   "outputs": [
    {
     "data": {
      "text/plain": "count    284807.000000\nmean         88.349619\nstd         250.120109\nmin           0.000000\n25%           5.600000\n50%          22.000000\n75%          77.165000\nmax       25691.160000\nName: Amount, dtype: float64"
     },
     "execution_count": 8,
     "metadata": {},
     "output_type": "execute_result"
    }
   ]
  },
  {
   "cell_type": "markdown",
   "source": " This describes total attributes in the \"Amount\" column. It also shows the total transactions in the dataset which is (284807).",
   "metadata": {
    "cell_id": "00005-8f5de58a-ea3e-463b-add7-2b5de5b23da2",
    "deepnote_cell_type": "markdown",
    "deepnote_cell_height": 52.390625
   }
  },
  {
   "cell_type": "code",
   "metadata": {
    "cell_id": "00006-27c296ca-62dd-4da1-9c29-40bbd6be4a27",
    "deepnote_cell_type": "code",
    "deepnote_cell_height": 719
   },
   "source": "# this provides info about the dataset, which includes the column count, non-null count and their data types\ndf.info()",
   "execution_count": null,
   "outputs": [
    {
     "name": "stdout",
     "output_type": "stream",
     "text": "<class 'pandas.core.frame.DataFrame'>\nRangeIndex: 284807 entries, 0 to 284806\nData columns (total 31 columns):\n #   Column  Non-Null Count   Dtype  \n---  ------  --------------   -----  \n 0   Time    284807 non-null  float64\n 1   V1      284807 non-null  float64\n 2   V2      284807 non-null  float64\n 3   V3      284807 non-null  float64\n 4   V4      284807 non-null  float64\n 5   V5      284807 non-null  float64\n 6   V6      284807 non-null  float64\n 7   V7      284807 non-null  float64\n 8   V8      284807 non-null  float64\n 9   V9      284807 non-null  float64\n 10  V10     284807 non-null  float64\n 11  V11     284807 non-null  float64\n 12  V12     284807 non-null  float64\n 13  V13     284807 non-null  float64\n 14  V14     284807 non-null  float64\n 15  V15     284807 non-null  float64\n 16  V16     284807 non-null  float64\n 17  V17     284807 non-null  float64\n 18  V18     284807 non-null  float64\n 19  V19     284807 non-null  float64\n 20  V20     284807 non-null  float64\n 21  V21     284807 non-null  float64\n 22  V22     284807 non-null  float64\n 23  V23     284807 non-null  float64\n 24  V24     284807 non-null  float64\n 25  V25     284807 non-null  float64\n 26  V26     284807 non-null  float64\n 27  V27     284807 non-null  float64\n 28  V28     284807 non-null  float64\n 29  Amount  284807 non-null  float64\n 30  Class   284807 non-null  int64  \ndtypes: float64(30), int64(1)\nmemory usage: 67.4 MB\n"
    }
   ]
  },
  {
   "cell_type": "code",
   "metadata": {
    "cell_id": "00007-67fe728e-21c5-44b5-871d-c71ad2b9509c",
    "deepnote_cell_type": "code",
    "deepnote_cell_height": 174.578125,
    "deepnote_output_heights": [
     59.59375
    ]
   },
   "source": "# checking the total amount of fradulent and non-fradulent data\ndf['Class'].value_counts()",
   "execution_count": null,
   "outputs": [
    {
     "data": {
      "text/plain": "0    284315\n1       492\nName: Class, dtype: int64"
     },
     "execution_count": 10,
     "metadata": {},
     "output_type": "execute_result"
    }
   ]
  },
  {
   "cell_type": "code",
   "metadata": {
    "cell_id": "00008-7c412535-1b67-43db-a22c-3e4e8948a188",
    "deepnote_cell_type": "code",
    "deepnote_cell_height": 278
   },
   "source": "# Using Matplotlib to check the number of occurences of each class model\nnon_fraud = len(df[df.Class == 0])\nfraud = len(df[df.Class == 1])\nfraud_percent = (fraud / (fraud + non_fraud)) * 100\n\nprint(\"Number of Genuine transactions: \", non_fraud)\nprint(\"Number of Fraud transactions: \", fraud)\nprint(\"Percentage of Fraud transactions: {:.4f}\".format(fraud_percent))",
   "execution_count": null,
   "outputs": [
    {
     "name": "stdout",
     "output_type": "stream",
     "text": "Number of Genuine transactions:  284315\nNumber of Fraud transactions:  492\nPercentage of Fraud transactions: 0.1727\n"
    }
   ]
  },
  {
   "cell_type": "markdown",
   "source": " From the results, it shows that only 492(0.173%) of the total data is fradulent which isn't accurate as it shows an inbalance in the data with respect to the target variable class. ",
   "metadata": {
    "cell_id": "00009-a0745dae-a06a-4f86-92d6-b3b5914022d6",
    "deepnote_cell_type": "markdown",
    "deepnote_cell_height": 74.796875
   }
  },
  {
   "cell_type": "code",
   "metadata": {
    "cell_id": "00010-e231f438-8787-4eaf-917c-3379b6319726",
    "deepnote_cell_type": "code",
    "deepnote_cell_height": 539,
    "deepnote_output_heights": [
     280
    ]
   },
   "source": "# Using matplotlib to plot the information above\nimport matplotlib.pyplot as plt\n\nlabels = [\"Genuine\", \"Fraud\"]\ncount_classes = df.value_counts(df['Class'], sort= True)\ncount_classes.plot(kind = \"bar\", rot = 0)\nplt.title(\"Visualization of Labels\")\nplt.ylabel(\"Count\")\nplt.xticks(range(2), labels)\nplt.show()",
   "execution_count": null,
   "outputs": [
    {
     "data": {
      "image/png": "[encoded data removed]",
      "text/plain": "<Figure size 432x288 with 1 Axes>"
     },
     "metadata": {
      "needs_background": "light",
      "image/png": {
       "width": 408,
       "height": 278
      }
     },
     "output_type": "display_data"
    }
   ]
  },
  {
   "cell_type": "markdown",
   "source": " From the information above, we can see that 99% of the transactions are not fradulent which isn't good. We will apply scaling techniques on the “Amount” feature to transform the range of values. We drop the original “Amount” column and add a new column with the scaled values. We also drop the “Time” column as it is irrelevant.",
   "metadata": {
    "cell_id": "00011-8a3018cf-76a9-49b7-84b8-0efb3e689972",
    "deepnote_cell_type": "markdown",
    "deepnote_cell_height": 97.1875
   }
  },
  {
   "cell_type": "code",
   "metadata": {
    "cell_id": "00012-30313f87-6268-4dd2-93c5-b515fda74f3b",
    "deepnote_cell_type": "code",
    "deepnote_cell_height": 210
   },
   "source": "import numpy as np\nfrom sklearn.preprocessing import StandardScaler\n\nscaler = StandardScaler()\ndf[\"NormalizedAmount\"] = scaler.fit_transform(df[\"Amount\"].values.reshape(-1, 1))\ndf.drop([\"Amount\", \"Time\"], inplace= True, axis= 1)\n\nY = df[\"Class\"]\nX = df.drop([\"Class\"], axis= 1)",
   "execution_count": null,
   "outputs": []
  },
  {
   "cell_type": "markdown",
   "source": "##### Now, it’s time to split credit card data with a split of 70-30 using train_test_split().",
   "metadata": {
    "cell_id": "00013-8339e343-7eee-464c-bfaf-369476d6b210",
    "deepnote_cell_type": "markdown",
    "deepnote_cell_height": 54
   }
  },
  {
   "cell_type": "code",
   "metadata": {
    "cell_id": "00014-353f6c72-0bf1-4f46-897c-6f99911318ab",
    "deepnote_cell_type": "code",
    "deepnote_cell_height": 222
   },
   "source": "from sklearn.model_selection import train_test_split\n\n(train_X, test_X, train_Y, test_Y) = train_test_split(X, Y, test_size= 0.3, random_state= 42)\n\nprint(\"Shape of train_X: \", train_X.shape)\nprint(\"Shape of test_X: \", test_X.shape)",
   "execution_count": null,
   "outputs": [
    {
     "name": "stdout",
     "output_type": "stream",
     "text": "Shape of train_X:  (199364, 29)\nShape of test_X:  (85443, 29)\n"
    }
   ]
  },
  {
   "cell_type": "markdown",
   "source": " In this project we will train different models and observe which model works best for our problem. We can apply a variety of algorithms for this problem like Random Forest, Decision Tree, Support Vector Machine. In this machine learning project, we build Random Forest and Decision Tree classifiers and see which one works best. We will address the “class imbalance” problem by picking the best-performing model. But before we start we have to understand what Decision Tree and Random Forest classifers are. \n The Decision Tree algorithm is a supervised machine learning algorithm used for classification and regression tasks. The algorithm’s aim is to build a training model that predicts the value of a target class variable by learning simple if-then-else decision rules inferred from the training data. While Random forest (one of the most popular algorithms) is a supervised machine learning algorithm. It creates a “forest” out of an ensemble of “decision trees”, which are normally trained using the “bagging” technique. The bagging method’s basic principle is that combining different learning models improves the outcome.",
   "metadata": {
    "cell_id": "00015-6dd60609-bdff-4efc-bdd4-ecbc4c388d70",
    "deepnote_cell_type": "markdown",
    "deepnote_cell_height": 231.59375
   }
  },
  {
   "cell_type": "code",
   "metadata": {
    "cell_id": "00016-50eadef5-beef-46f6-b7d4-ef487eb39ee2",
    "deepnote_cell_type": "code",
    "deepnote_cell_height": 228
   },
   "source": "# buildng the Decision Tree and Random Forest Classifiers\nfrom sklearn.ensemble import RandomForestClassifier\nfrom sklearn.tree import DecisionTreeClassifier\n\n#Decision Tree\ndecision_tree = DecisionTreeClassifier()\n\n# Random Forest\nrandom_forest = RandomForestClassifier(n_estimators= 100)\n",
   "execution_count": null,
   "outputs": []
  },
  {
   "cell_type": "code",
   "metadata": {
    "cell_id": "00017-18087042-e2c3-4089-9c73-3448af7e883f",
    "deepnote_cell_type": "code",
    "deepnote_cell_height": 312
   },
   "source": "decision_tree.fit(train_X, train_Y)\npredictions_dt = decision_tree.predict(test_X)\ndecision_tree_score = decision_tree.score(test_X, test_Y) * 100\n\nrandom_forest.fit(train_X, train_Y)\npredictions_rf = random_forest.predict(test_X)\nrandom_forest_score = random_forest.score(test_X, test_Y) * 100\n\nprint(\"Random Forest Score: \", random_forest_score)\nprint(\"Decision Tree Score: \", decision_tree_score)\n",
   "execution_count": null,
   "outputs": [
    {
     "name": "stdout",
     "output_type": "stream",
     "text": "Random Forest Score:  99.9637185023934\nDecision Tree Score:  99.91222218320986\n"
    }
   ]
  },
  {
   "cell_type": "code",
   "metadata": {
    "cell_id": "00018-12a4b0a6-e66b-41c8-be0c-7d35656c8b0b",
    "deepnote_cell_type": "code",
    "deepnote_cell_height": 210
   },
   "source": "from sklearn.metrics import accuracy_score, precision_score, confusion_matrix, recall_score, f1_score, ConfusionMatrixDisplay\n\n\ndef metrics(actuals, predictions):\n    print(\"Accuracy: {:.5f}\".format(accuracy_score(actuals, predictions)))\n    print(\"Precision: {:.5f}\".format(precision_score(actuals, predictions)))\n    print(\"Recall: {:.5f}\".format(recall_score(actuals, predictions)))\n    print(\"F1-score: {:.5f}\".format(f1_score(actuals, predictions)))\n",
   "execution_count": null,
   "outputs": []
  },
  {
   "cell_type": "code",
   "metadata": {
    "cell_id": "00019-0b53f465-887f-4d75-b261-ed7eb1d8b4dd",
    "deepnote_cell_type": "code",
    "deepnote_cell_height": 188
   },
   "source": "confusion_matrix_dt = confusion_matrix(test_Y, predictions_dt.round())\nprint(\"Confusion Matrix - Decision Tree\")\nprint(confusion_matrix_dt)",
   "execution_count": null,
   "outputs": [
    {
     "name": "stdout",
     "output_type": "stream",
     "text": "Confusion Matrix - Decision Tree\n[[85260    47]\n [   28   108]]\n"
    }
   ]
  },
  {
   "cell_type": "code",
   "metadata": {
    "cell_id": "00020-f837c17d-c073-4ecc-a3fb-e95eb5768db0",
    "deepnote_cell_type": "code",
    "deepnote_cell_height": 828.1875,
    "deepnote_output_heights": [
     21.1875,
     499
    ]
   },
   "source": "from sklearn.metrics import confusion_matrix\ncm_plot = confusion_matrix(test_Y, predictions_dt)\ncm_plot\n# after creating the confusion matrix, for better understaning plot the cm.\nimport seaborn as sn\nplt.figure(figsize = (10,8))\n# were 'cmap' is used to set the accent colour.\nsn.heatmap(cm_plot, annot=True, cmap= 'icefire_r',  fmt='d', cbar=True)\nplt.xlabel('Predicted_Label')\nplt.ylabel('Truth_Label')\nplt.title('Confusion Matrix - Decision Tree')",
   "execution_count": null,
   "outputs": [
    {
     "data": {
      "text/plain": "Text(0.5, 1.0, 'Confusion Matrix - Decision Tree')"
     },
     "execution_count": 19,
     "metadata": {},
     "output_type": "execute_result"
    },
    {
     "data": {
      "image/png": "[encoded data removed]",
      "text/plain": "<Figure size 720x576 with 2 Axes>"
     },
     "metadata": {
      "needs_background": "light",
      "image/png": {
       "width": 581,
       "height": 497
      }
     },
     "output_type": "display_data"
    }
   ]
  },
  {
   "cell_type": "code",
   "metadata": {
    "cell_id": "00021-216106c5-7261-4365-b3dd-5cdb7d5e467a",
    "deepnote_cell_type": "code",
    "deepnote_cell_height": 266
   },
   "source": "# evaluation of our Decision Tree model\nprint(\"Evaluation of Decision Tree Model\")\nprint()\nmetrics(test_Y, predictions_dt.round())",
   "execution_count": null,
   "outputs": [
    {
     "name": "stdout",
     "output_type": "stream",
     "text": "Evaluation of Decision Tree Model\n\nAccuracy: 0.99912\nPrecision: 0.69677\nRecall: 0.79412\nF1-score: 0.74227\n"
    }
   ]
  },
  {
   "cell_type": "code",
   "metadata": {
    "cell_id": "00022-45bfc256-1445-4b3f-af70-da6a7e875288",
    "deepnote_cell_type": "code",
    "deepnote_cell_height": 206
   },
   "source": "confusion_matrix_rf = confusion_matrix(test_Y, predictions_rf.round())\nprint(\"Confusion Matrix - Random Forest\")\nprint(confusion_matrix_rf)\n",
   "execution_count": null,
   "outputs": [
    {
     "name": "stdout",
     "output_type": "stream",
     "text": "Confusion Matrix - Random Forest\n[[85301     6]\n [   25   111]]\n"
    }
   ]
  },
  {
   "cell_type": "code",
   "metadata": {
    "cell_id": "00023-c6976de8-6101-461c-a241-f026df4a3c5c",
    "deepnote_cell_type": "code",
    "deepnote_cell_height": 846.1875,
    "deepnote_output_heights": [
     null,
     499
    ]
   },
   "source": "# plotting the confusion matrix of our Random Forest classifier\nfrom sklearn.metrics import confusion_matrix\ncm_plot = confusion_matrix(test_Y, predictions_rf)\ncm_plot\n# after creating the confusion matrix, for better understaning plot the cm.\nimport seaborn as sn\nplt.figure(figsize = (10,8))\n# were 'cmap' is used to set the accent colour.\nsn.heatmap(cm_plot, annot=True, cmap= 'tab20c',  fmt='d', cbar=True)\nplt.xlabel('Predicted_Label')\nplt.ylabel('Truth_Label')\nplt.title('Confusion Matrix - Random Forest')",
   "execution_count": null,
   "outputs": [
    {
     "data": {
      "text/plain": "Text(0.5, 1.0, 'Confusion Matrix - Random Forest')"
     },
     "execution_count": 22,
     "metadata": {},
     "output_type": "execute_result"
    },
    {
     "data": {
      "image/png": "[encoded data removed]",
      "text/plain": "<Figure size 720x576 with 2 Axes>"
     },
     "metadata": {
      "needs_background": "light",
      "image/png": {
       "width": 581,
       "height": 497
      }
     },
     "output_type": "display_data"
    }
   ]
  },
  {
   "cell_type": "code",
   "metadata": {
    "cell_id": "00024-3922b34f-ef41-4a29-952d-c16b9c92a11d",
    "deepnote_cell_type": "code",
    "deepnote_cell_height": 248
   },
   "source": "print(\"Evaluation of Random Forest Model\")\nprint()\nmetrics(test_Y, predictions_rf.round())",
   "execution_count": null,
   "outputs": [
    {
     "name": "stdout",
     "output_type": "stream",
     "text": "Evaluation of Random Forest Model\n\nAccuracy: 0.99964\nPrecision: 0.94872\nRecall: 0.81618\nF1-score: 0.87747\n"
    }
   ]
  },
  {
   "cell_type": "markdown",
   "source": "### Addressing the Class-Imbalance issue.\nThe Random Forest model works better than Decision Trees. But, if we observe our dataset suffers a serious problem of class imbalance. The genuine (not fraud) transactions are more than 99% with the credit card fraud transactions constituting 0.17%. \n\nWith such a distribution, if we train our model without taking care of the imbalance issues, it predicts the label with higher importance given to genuine transactions (as there is more data about them) and hence obtains more accuracy.\n\nThe class imbalance problem can be solved by various techniques. Oversampling is one of them.\n\nOversample the minority class is one of the approaches to address the imbalance in the dataset. The easiest solution entails doubling examples in the minority class, even though these examples contribute no new data to the model.\n\nInstead, new examples may be generated by replicating existing ones. The Synthetic Minority Oversampling Technique, or SMOTE for short, is a method of data augmentation for the minority class.\n\nThe above SMOTE is present in the imblearn package. Let’s import that and resample our data.\n\nIn the following code below, we resampled our data and we split it using train_test_split() with a split of 70-30.",
   "metadata": {
    "cell_id": "00025-2ca6fa5a-c903-4bb8-95f9-39b7da66fd99",
    "deepnote_cell_type": "markdown",
    "deepnote_cell_height": 408.390625
   }
  },
  {
   "cell_type": "code",
   "metadata": {
    "cell_id": "00026-09fd227d-35e7-45cb-8704-978f342174af",
    "deepnote_cell_type": "code",
    "deepnote_cell_height": 254.796875
   },
   "source": "# installing imblearn on the notebook\n!pip3 install imblearn",
   "execution_count": null,
   "outputs": [
    {
     "name": "stdout",
     "output_type": "stream",
     "text": "Requirement already satisfied: imblearn in c:\\users\\felix\\miniconda3\\envs\\ds\\lib\\site-packages (0.0)\nRequirement already satisfied: imbalanced-learn in c:\\users\\felix\\miniconda3\\envs\\ds\\lib\\site-packages (from imblearn) (0.7.0)\nRequirement already satisfied: scikit-learn>=0.23 in c:\\users\\felix\\miniconda3\\envs\\ds\\lib\\site-packages (from imbalanced-learn->imblearn) (1.1.1)\nRequirement already satisfied: joblib>=0.11 in c:\\users\\felix\\miniconda3\\envs\\ds\\lib\\site-packages (from imbalanced-learn->imblearn) (1.1.0)\nRequirement already satisfied: numpy>=1.13.3 in c:\\users\\felix\\miniconda3\\envs\\ds\\lib\\site-packages (from imbalanced-learn->imblearn) (1.21.5)\nRequirement already satisfied: scipy>=0.19.1 in c:\\users\\felix\\miniconda3\\envs\\ds\\lib\\site-packages (from imbalanced-learn->imblearn) (1.7.3)\nRequirement already satisfied: threadpoolctl>=2.0.0 in c:\\users\\felix\\miniconda3\\envs\\ds\\lib\\site-packages (from scikit-learn>=0.23->imbalanced-learn->imblearn) (2.2.0)\n"
    }
   ]
  },
  {
   "cell_type": "code",
   "metadata": {
    "cell_id": "00027-29bfb6ba-90c9-41e7-91af-cdd72f5a16f7",
    "deepnote_cell_type": "code",
    "deepnote_cell_height": 368
   },
   "source": "# performing oversampling on RF and DT\n\nfrom imblearn.over_sampling import SMOTE\n\n\nX_resampled, Y_resampled = SMOTE().fit_resample(X, Y)\nprint(\"Resampled shape of X: \", X_resampled.shape)\nprint(\"Resampled shape of Y: \", Y_resampled.shape)\n\nvalue_counts = Counter(Y_resampled)\nprint(value_counts)\n\n(train_X, test_X, train_Y, test_Y) = train_test_split(X_resampled, Y_resampled, test_size= 0.3, random_state= 42)",
   "execution_count": null,
   "outputs": [
    {
     "name": "stdout",
     "output_type": "stream",
     "text": "Resampled shape of X:  (568630, 29)\nResampled shape of Y:  (568630,)\nCounter({0: 284315, 1: 284315})\n"
    }
   ]
  },
  {
   "cell_type": "markdown",
   "source": "As the Random Forest algorithm performed better than the Decision Tree algorithm, we will apply the Random Forest algorithm to our resampled data.",
   "metadata": {
    "cell_id": "00028-6ca2ee93-2d82-4eca-b922-881d1a51f0ac",
    "deepnote_cell_type": "markdown",
    "deepnote_cell_height": 74.796875
   }
  },
  {
   "cell_type": "code",
   "metadata": {
    "cell_id": "00029-6aefa8a3-dd41-49ff-8386-2ce531f5f25a",
    "deepnote_cell_type": "code",
    "deepnote_cell_height": 174
   },
   "source": "# we use the Random Forest algorithm since it performed better than the Decision Tree algorithm\nrf_resampled = RandomForestClassifier(n_estimators = 100)\nrf_resampled.fit(train_X, train_Y)\n\npredictions_resampled = rf_resampled.predict(test_X)\nrandom_forest_score_resampled = rf_resampled.score(test_X, test_Y) * 100\n",
   "execution_count": null,
   "outputs": []
  },
  {
   "cell_type": "code",
   "metadata": {
    "cell_id": "00030-8a720c6d-bbb1-47a6-a9cc-5b533861e573",
    "deepnote_cell_type": "code",
    "deepnote_cell_height": 242
   },
   "source": "# visizualiztions using confusion matrix\ncm_resampled = confusion_matrix(test_Y, predictions_resampled.round())\nprint(\"Confusion Matrix - Random Forest\")\nprint(cm_resampled)\n\n",
   "execution_count": null,
   "outputs": [
    {
     "name": "stdout",
     "output_type": "stream",
     "text": "Confusion Matrix - Random Forest\n[[85131    18]\n [    0 85440]]\n"
    }
   ]
  },
  {
   "cell_type": "code",
   "metadata": {
    "cell_id": "00031-7d039d23-eaf1-4b51-8a24-33839e4c1831",
    "deepnote_cell_type": "code",
    "deepnote_cell_height": 846.1875,
    "deepnote_output_heights": [
     21.1875,
     499
    ]
   },
   "source": "# plotting the confusion matrix of our Random Forest After Oversampling \nfrom sklearn.metrics import confusion_matrix\ncm_plot = confusion_matrix(test_Y, predictions_resampled)\ncm_plot\n# after creating the confusion matrix, for better understaning plot the cm.\nimport seaborn as sn\nplt.figure(figsize = (10,8))\n# were 'cmap' is used to set the accent colour.\nsn.heatmap(cm_plot, annot=True, cmap= 'tab20c',  fmt='d', cbar=True)\nplt.xlabel('Predicted_Label')\nplt.ylabel('Truth_Label')\nplt.title('Confusion Matrix - Random Forest After Oversampling')",
   "execution_count": null,
   "outputs": [
    {
     "data": {
      "text/plain": "Text(0.5, 1.0, 'Confusion Matrix - Random Forest After Oversampling')"
     },
     "execution_count": 35,
     "metadata": {},
     "output_type": "execute_result"
    },
    {
     "data": {
      "image/png": "[encoded data removed]",
      "text/plain": "<Figure size 720x576 with 2 Axes>"
     },
     "metadata": {
      "needs_background": "light",
      "image/png": {
       "width": 581,
       "height": 497
      }
     },
     "output_type": "display_data"
    }
   ]
  },
  {
   "cell_type": "code",
   "metadata": {
    "cell_id": "00032-9397f6e8-7eb7-424c-9b9d-59715070d48e",
    "deepnote_cell_type": "code",
    "deepnote_cell_height": 266
   },
   "source": "print(\"Evaluation of Random Forest Model\")\nprint()\n\nmetrics(test_Y, predictions_resampled.round())",
   "execution_count": null,
   "outputs": [
    {
     "name": "stdout",
     "output_type": "stream",
     "text": "Evaluation of Random Forest Model\n\nAccuracy: 0.99989\nPrecision: 0.99979\nRecall: 1.00000\nF1-score: 0.99989\n"
    }
   ]
  },
  {
   "cell_type": "markdown",
   "source": "Now, it is clearly evident that our model performed much better than our previous Random Forest classifier without oversampling.",
   "metadata": {
    "cell_id": "00033-3161a9d1-79ee-46c7-be97-ca648cee21f6",
    "deepnote_cell_type": "markdown",
    "deepnote_cell_height": 52.390625
   }
  },
  {
   "cell_type": "markdown",
   "source": "### Summary\n",
   "metadata": {
    "cell_id": "00034-6baf0dee-737c-4e29-8ac4-feb4800d54fb",
    "deepnote_cell_type": "markdown",
    "deepnote_cell_height": 62
   }
  },
  {
   "cell_type": "markdown",
   "source": " We built a binary classifier using the Random Forest algorithm to detect credit card fraud transactions in this python project. Through this project, we understood and applied techniques to address the class imbalance issues in the dataset and achieved an accuracy of more than 99% in our result.",
   "metadata": {
    "cell_id": "00035-10b14088-1978-4d26-af57-6ebed6f29975",
    "deepnote_cell_type": "markdown",
    "deepnote_cell_height": 97.1875
   }
  },
  {
   "cell_type": "markdown",
   "source": "<a style='text-decoration:none;line-height:16px;display:flex;color:#5B5B62;padding:10px;justify-content:end;' href='https://deepnote.com?utm_source=created-in-deepnote-cell&projectId=459644e2-512b-4c7d-a7ec-c031a5a50751' target=\"_blank\">\n<img alt='Created in deepnote.com' style='display:inline;max-height:16px;margin:0px;margin-right:7.5px;' src='data:image/svg+xml;base64,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' > </img>\nCreated in <span style='font-weight:600;margin-left:4px;'>Deepnote</span></a>",
   "metadata": {
    "tags": [],
    "created_in_deepnote_cell": true,
    "deepnote_cell_type": "markdown"
   }
  }
 ],
 "nbformat": 4,
 "nbformat_minor": 2,
 "metadata": {
  "interpreter": {
   "hash": "57b2056980ae0413a08abe1848fa04f2ef8f85ecef38ec8e1e710ccec1bd48f5"
  },
  "kernelspec": {
   "display_name": "Python 3.8.13 ('ds')",
   "language": "python",
   "name": "python3"
  },
  "language_info": {
   "codemirror_mode": {
    "name": "ipython",
    "version": 3
   },
   "file_extension": ".py",
   "mimetype": "text/x-python",
   "name": "python",
   "nbconvert_exporter": "python",
   "pygments_lexer": "ipython3",
   "version": "3.8.13"
  },
  "orig_nbformat": 4,
  "deepnote_notebook_id": "a3d90efa-de7a-45e0-af3b-48da50a0dfd6",
  "deepnote": {},
  "deepnote_execution_queue": []
 }
}